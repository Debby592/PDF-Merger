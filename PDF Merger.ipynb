{
 "cells": [
  {
   "cell_type": "code",
   "execution_count": 27,
   "id": "631e600a",
   "metadata": {},
   "outputs": [
    {
     "name": "stdout",
     "output_type": "stream",
     "text": [
      "Requirement already satisfied: PyPDF2 in c:\\users\\dlamb\\anaconda3\\lib\\site-packages (1.26.0)\n",
      "Note: you may need to restart the kernel to use updated packages.\n"
     ]
    }
   ],
   "source": [
    "pip install PyPDF2"
   ]
  },
  {
   "cell_type": "code",
   "execution_count": 22,
   "id": "c4dde765",
   "metadata": {},
   "outputs": [],
   "source": [
    "import os\n",
    "\n",
    "os.chdir('C:\\\\Users\\\\dlamb\\\\Downloads')"
   ]
  },
  {
   "cell_type": "code",
   "execution_count": 23,
   "id": "b8c589b2",
   "metadata": {},
   "outputs": [],
   "source": [
    "pdfFile = open('Lecture_32_VIEWS.pdf', 'rb')"
   ]
  },
  {
   "cell_type": "code",
   "execution_count": 29,
   "id": "2798ef80",
   "metadata": {},
   "outputs": [],
   "source": [
    "import PyPDF2"
   ]
  },
  {
   "cell_type": "code",
   "execution_count": 30,
   "id": "9d314752",
   "metadata": {},
   "outputs": [],
   "source": [
    "from PyPDF2 import PdfFileReader, PdfFileWriter \n",
    "reader = PyPDF2.PdfFileReader(pdfFile)"
   ]
  },
  {
   "cell_type": "code",
   "execution_count": 31,
   "id": "e3aa4b16",
   "metadata": {},
   "outputs": [
    {
     "data": {
      "text/plain": [
       "6"
      ]
     },
     "execution_count": 31,
     "metadata": {},
     "output_type": "execute_result"
    }
   ],
   "source": [
    "reader.numPages"
   ]
  },
  {
   "cell_type": "code",
   "execution_count": 34,
   "id": "1f810dae",
   "metadata": {
    "scrolled": true
   },
   "outputs": [
    {
     "data": {
      "text/plain": [
       "'CREATE VIEW\\nStart\\n-\\nTech Academy\\nVIEW is not a physical table, it is a virtual table created by a query joining one or more tables.\\nCREATE VIEW \\nlogistics \\nAS \\nSELECT \\na.order_line\\n, \\na.order_id\\n,\\nb.customer_name\\n,\\nb.city\\n, \\nb\\n. state, \\nb\\n. country \\nFROM \\nsales \\nAS \\na\\nLEFT JOIN \\ncustomer as b\\nON \\na.customer_id\\n= \\nb.customer_id\\nORDER BY \\na.order_line\\n;\\nCREATE OR REPLACE VIEW \\ncan be used instead of just CREATE VIEW\\nExample\\n'"
      ]
     },
     "execution_count": 34,
     "metadata": {},
     "output_type": "execute_result"
    }
   ],
   "source": [
    "page = reader.getPage(2)\n",
    "page.extractText()"
   ]
  },
  {
   "cell_type": "code",
   "execution_count": 36,
   "id": "ef3e4361",
   "metadata": {},
   "outputs": [
    {
     "name": "stdout",
     "output_type": "stream",
     "text": [
      "\n",
      "VIEW\n",
      "Start\n",
      "-\n",
      "Tech Academy\n",
      "VIEW is not a physical table, it is a virtual table created by a query joining one or more tables.\n",
      "Syntax\n",
      "CREATE [OR REPLACE] VIEW \n",
      "view_name\n",
      "AS\n",
      "SELECT columns\n",
      "FROM tables\n",
      "[WHERE conditions];\n",
      "\n",
      "CREATE VIEW\n",
      "Start\n",
      "-\n",
      "Tech Academy\n",
      "VIEW is not a physical table, it is a virtual table created by a query joining one or more tables.\n",
      "CREATE VIEW \n",
      "logistics \n",
      "AS \n",
      "SELECT \n",
      "a.order_line\n",
      ", \n",
      "a.order_id\n",
      ",\n",
      "b.customer_name\n",
      ",\n",
      "b.city\n",
      ", \n",
      "b\n",
      ". state, \n",
      "b\n",
      ". country \n",
      "FROM \n",
      "sales \n",
      "AS \n",
      "a\n",
      "LEFT JOIN \n",
      "customer as b\n",
      "ON \n",
      "a.customer_id\n",
      "= \n",
      "b.customer_id\n",
      "ORDER BY \n",
      "a.order_line\n",
      ";\n",
      "CREATE OR REPLACE VIEW \n",
      "can be used instead of just CREATE VIEW\n",
      "Example\n",
      "\n",
      "DROP or UPDATE VIEW\n",
      "Start\n",
      "-\n",
      "Tech Academy\n",
      "VIEW is not a physical table, it is a virtual table created by a query joining one or more tables.\n",
      "Example\n",
      "DROP VIEW logistics;\n",
      "UPDATE \n",
      "logistics\n",
      "SET \n",
      "Country \n",
      "= \n",
      "US\n",
      "WHERE \n",
      "Country \n",
      "= \n",
      "\n",
      "\n",
      "VIEW\n",
      "Start\n",
      "-\n",
      "Tech Academy\n",
      "NOTES\n",
      "A view is a virtual table. A view consists of rows and columns just like a table. The \n",
      "difference between a view and a table is that views are definitions built on top of \n",
      "other tables (or views), and do not hold data themselves. If data is changing in the \n",
      "underlying table, the same change is reflected in the view. A view can be built on top \n",
      "of a single table or multiple tables. It can also be built on top of another view. In the \n",
      "SQL Create View\n",
      "page, we will see how a view can be built. \n",
      "Views offer the following advantages: \n",
      "1. Ease of use\n",
      ": A view hides the complexity of the database tables from end users. \n",
      "Essentially we can think of views as a layer of abstraction on top of the database \n",
      "tables. \n",
      "2. Space savings\n",
      ": Views takes very little space to store, since they do not store actual \n",
      "data. \n",
      "3. Additional data security\n",
      ": Views can include only certain columns in the table so \n",
      "that only the non\n",
      "-\n",
      "sensitive columns are included and exposed to the end user. In \n",
      "addition, some databases allow views to have different security settings, thus hiding \n",
      "sensitive data from prying eyes. \n",
      "\n",
      "VIEW\n",
      "Start\n",
      "-\n",
      "Tech Academy\n",
      "NOTES\n",
      "\n",
      "\n",
      "The SELECT clause may not contain the keyword DISTINCT.\n",
      "\n",
      "The SELECT clause may not contain summary functions.\n",
      "\n",
      "The SELECT clause may not contain set functions.\n",
      "\n",
      "The SELECT clause may not contain set operators.\n",
      "\n",
      "The SELECT clause may not contain an ORDER BY clause.\n",
      "\n",
      "The FROM clause may not contain multiple tables.\n",
      "\n",
      "The WHERE clause may not contain subqueries.\n",
      "\n",
      "The query may not contain GROUP BY or HAVING.\n",
      "\n",
      "Calculated columns may not be updated.\n",
      "\n",
      "All NOT NULL columns from the base table must be included in the view in \n",
      "order for the INSERT query to function.\n",
      "\n"
     ]
    }
   ],
   "source": [
    "for pageNum in range(reader.numPages):\n",
    "    print(reader.getPage(pageNum).extractText())"
   ]
  },
  {
   "cell_type": "code",
   "execution_count": 38,
   "id": "cdb69a4b",
   "metadata": {},
   "outputs": [],
   "source": [
    "# I wanna merge this lesson with another \n",
    "\n",
    "pdfFile2 = open('Lecture_33_INDEX.pdf', 'rb')\n",
    "reader2 = PyPDF2.PdfFileReader(pdfFile2)\n",
    "\n",
    "writer = PyPDF2.PdfFileWriter()\n",
    "\n",
    "for pageNum in range(reader.numPages):\n",
    "    page = reader.getPage(pageNum)\n",
    "    writer.addPage(page)"
   ]
  },
  {
   "cell_type": "code",
   "execution_count": 39,
   "id": "83267712",
   "metadata": {},
   "outputs": [],
   "source": [
    "#repeat for the second file\n",
    "\n",
    "for pageNum in range(reader2.numPages):\n",
    "    page = reader2.getPage(pageNum)\n",
    "    writer.addPage(page)"
   ]
  },
  {
   "cell_type": "code",
   "execution_count": 40,
   "id": "9b63b7de",
   "metadata": {},
   "outputs": [],
   "source": [
    "final = open('Views&Index.pdf', 'wb') # create new write binary file\n",
    "writer.write(final)\n",
    "final.close()"
   ]
  },
  {
   "cell_type": "code",
   "execution_count": null,
   "id": "3352a161",
   "metadata": {},
   "outputs": [],
   "source": []
  }
 ],
 "metadata": {
  "kernelspec": {
   "display_name": "Python 3",
   "language": "python",
   "name": "python3"
  },
  "language_info": {
   "codemirror_mode": {
    "name": "ipython",
    "version": 3
   },
   "file_extension": ".py",
   "mimetype": "text/x-python",
   "name": "python",
   "nbconvert_exporter": "python",
   "pygments_lexer": "ipython3",
   "version": "3.8.8"
  }
 },
 "nbformat": 4,
 "nbformat_minor": 5
}
